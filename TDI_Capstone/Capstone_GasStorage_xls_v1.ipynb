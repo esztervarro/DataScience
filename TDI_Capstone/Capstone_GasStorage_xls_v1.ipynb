{
 "cells": [
  {
   "cell_type": "code",
   "execution_count": 2,
   "id": "ce2a87d5",
   "metadata": {},
   "outputs": [],
   "source": [
    "import matplotlib.pyplot as plt\n",
    "import pandas as pd\n",
    "import pylab as pl\n",
    "import numpy as np\n",
    "%matplotlib inline"
   ]
  },
  {
   "cell_type": "code",
   "execution_count": 3,
   "id": "0ff977d0",
   "metadata": {},
   "outputs": [
    {
     "data": {
      "text/plain": [
       "(4210, 9)"
      ]
     },
     "execution_count": 3,
     "metadata": {},
     "output_type": "execute_result"
    }
   ],
   "source": [
    "path = 'c:\\Hivatalos\\DataScientist\\StorageData_GIE_2011-01-01_2022-07-11.xlsx'\n",
    "df = pd.read_excel(path)\n",
    "\n",
    "df.shape"
   ]
  },
  {
   "cell_type": "code",
   "execution_count": 92,
   "id": "a14ff6d7",
   "metadata": {},
   "outputs": [
    {
     "data": {
      "text/html": [
       "<div>\n",
       "<style scoped>\n",
       "    .dataframe tbody tr th:only-of-type {\n",
       "        vertical-align: middle;\n",
       "    }\n",
       "\n",
       "    .dataframe tbody tr th {\n",
       "        vertical-align: top;\n",
       "    }\n",
       "\n",
       "    .dataframe thead th {\n",
       "        text-align: right;\n",
       "    }\n",
       "</style>\n",
       "<table border=\"1\" class=\"dataframe\">\n",
       "  <thead>\n",
       "    <tr style=\"text-align: right;\">\n",
       "      <th></th>\n",
       "      <th>GasDayStart</th>\n",
       "      <th>GasInStorageTWh</th>\n",
       "      <th>FullPercentage</th>\n",
       "      <th>TrendPercentage</th>\n",
       "      <th>InjectionGWhD</th>\n",
       "      <th>WithdrawalGWhD</th>\n",
       "      <th>Working(Gas)VolumeTWh</th>\n",
       "      <th>InjectionCapacityGWhD</th>\n",
       "      <th>WithdrawalCapacityGWhD</th>\n",
       "    </tr>\n",
       "  </thead>\n",
       "  <tbody>\n",
       "    <tr>\n",
       "      <th>0</th>\n",
       "      <td>2022-07-11</td>\n",
       "      <td>692.5154</td>\n",
       "      <td>62.34</td>\n",
       "      <td>0.25</td>\n",
       "      <td>3603.45</td>\n",
       "      <td>787.1</td>\n",
       "      <td>1110.8691</td>\n",
       "      <td>11711.99</td>\n",
       "      <td>19859.52</td>\n",
       "    </tr>\n",
       "    <tr>\n",
       "      <th>1</th>\n",
       "      <td>2022-07-10</td>\n",
       "      <td>689.9400</td>\n",
       "      <td>62.11</td>\n",
       "      <td>0.47</td>\n",
       "      <td>5429.34</td>\n",
       "      <td>178.9</td>\n",
       "      <td>1110.8589</td>\n",
       "      <td>11712.22</td>\n",
       "      <td>19857.76</td>\n",
       "    </tr>\n",
       "    <tr>\n",
       "      <th>2</th>\n",
       "      <td>2022-07-09</td>\n",
       "      <td>684.7977</td>\n",
       "      <td>61.65</td>\n",
       "      <td>0.48</td>\n",
       "      <td>5473.00</td>\n",
       "      <td>173.9</td>\n",
       "      <td>1110.8589</td>\n",
       "      <td>11712.69</td>\n",
       "      <td>19856.52</td>\n",
       "    </tr>\n",
       "    <tr>\n",
       "      <th>3</th>\n",
       "      <td>2022-07-08</td>\n",
       "      <td>679.6126</td>\n",
       "      <td>61.18</td>\n",
       "      <td>0.35</td>\n",
       "      <td>4333.53</td>\n",
       "      <td>420.0</td>\n",
       "      <td>1110.8589</td>\n",
       "      <td>11712.96</td>\n",
       "      <td>19855.80</td>\n",
       "    </tr>\n",
       "    <tr>\n",
       "      <th>4</th>\n",
       "      <td>2022-07-07</td>\n",
       "      <td>675.8310</td>\n",
       "      <td>60.84</td>\n",
       "      <td>0.35</td>\n",
       "      <td>4411.06</td>\n",
       "      <td>516.7</td>\n",
       "      <td>1110.8589</td>\n",
       "      <td>11713.11</td>\n",
       "      <td>19855.39</td>\n",
       "    </tr>\n",
       "  </tbody>\n",
       "</table>\n",
       "</div>"
      ],
      "text/plain": [
       "  GasDayStart  GasInStorageTWh  FullPercentage  TrendPercentage  \\\n",
       "0  2022-07-11         692.5154           62.34             0.25   \n",
       "1  2022-07-10         689.9400           62.11             0.47   \n",
       "2  2022-07-09         684.7977           61.65             0.48   \n",
       "3  2022-07-08         679.6126           61.18             0.35   \n",
       "4  2022-07-07         675.8310           60.84             0.35   \n",
       "\n",
       "   InjectionGWhD  WithdrawalGWhD  Working(Gas)VolumeTWh  \\\n",
       "0        3603.45           787.1              1110.8691   \n",
       "1        5429.34           178.9              1110.8589   \n",
       "2        5473.00           173.9              1110.8589   \n",
       "3        4333.53           420.0              1110.8589   \n",
       "4        4411.06           516.7              1110.8589   \n",
       "\n",
       "   InjectionCapacityGWhD  WithdrawalCapacityGWhD  \n",
       "0               11711.99                19859.52  \n",
       "1               11712.22                19857.76  \n",
       "2               11712.69                19856.52  \n",
       "3               11712.96                19855.80  \n",
       "4               11713.11                19855.39  "
      ]
     },
     "execution_count": 92,
     "metadata": {},
     "output_type": "execute_result"
    }
   ],
   "source": [
    "df.head()"
   ]
  },
  {
   "cell_type": "code",
   "execution_count": 93,
   "id": "1e399f03",
   "metadata": {},
   "outputs": [
    {
     "data": {
      "text/html": [
       "<div>\n",
       "<style scoped>\n",
       "    .dataframe tbody tr th:only-of-type {\n",
       "        vertical-align: middle;\n",
       "    }\n",
       "\n",
       "    .dataframe tbody tr th {\n",
       "        vertical-align: top;\n",
       "    }\n",
       "\n",
       "    .dataframe thead th {\n",
       "        text-align: right;\n",
       "    }\n",
       "</style>\n",
       "<table border=\"1\" class=\"dataframe\">\n",
       "  <thead>\n",
       "    <tr style=\"text-align: right;\">\n",
       "      <th></th>\n",
       "      <th>GasInStorageTWh</th>\n",
       "      <th>FullPercentage</th>\n",
       "      <th>TrendPercentage</th>\n",
       "      <th>InjectionGWhD</th>\n",
       "      <th>WithdrawalGWhD</th>\n",
       "      <th>Working(Gas)VolumeTWh</th>\n",
       "      <th>InjectionCapacityGWhD</th>\n",
       "      <th>WithdrawalCapacityGWhD</th>\n",
       "    </tr>\n",
       "  </thead>\n",
       "  <tbody>\n",
       "    <tr>\n",
       "      <th>count</th>\n",
       "      <td>4210.000000</td>\n",
       "      <td>4210.000000</td>\n",
       "      <td>4210.000000</td>\n",
       "      <td>4210.000000</td>\n",
       "      <td>4210.000000</td>\n",
       "      <td>4210.000000</td>\n",
       "      <td>4210.000000</td>\n",
       "      <td>4210.000000</td>\n",
       "    </tr>\n",
       "    <tr>\n",
       "      <th>mean</th>\n",
       "      <td>629.234188</td>\n",
       "      <td>63.018881</td>\n",
       "      <td>0.000893</td>\n",
       "      <td>1914.484214</td>\n",
       "      <td>1894.118694</td>\n",
       "      <td>1003.030956</td>\n",
       "      <td>10090.040128</td>\n",
       "      <td>17515.544363</td>\n",
       "    </tr>\n",
       "    <tr>\n",
       "      <th>std</th>\n",
       "      <td>228.242201</td>\n",
       "      <td>20.722883</td>\n",
       "      <td>0.355025</td>\n",
       "      <td>1648.667052</td>\n",
       "      <td>2322.914171</td>\n",
       "      <td>152.960614</td>\n",
       "      <td>2073.388395</td>\n",
       "      <td>3020.821327</td>\n",
       "    </tr>\n",
       "    <tr>\n",
       "      <th>min</th>\n",
       "      <td>193.839800</td>\n",
       "      <td>17.720000</td>\n",
       "      <td>-1.060000</td>\n",
       "      <td>18.170000</td>\n",
       "      <td>6.100000</td>\n",
       "      <td>617.509900</td>\n",
       "      <td>5392.470000</td>\n",
       "      <td>10271.030000</td>\n",
       "    </tr>\n",
       "    <tr>\n",
       "      <th>25%</th>\n",
       "      <td>442.756725</td>\n",
       "      <td>46.590000</td>\n",
       "      <td>-0.280000</td>\n",
       "      <td>330.252500</td>\n",
       "      <td>216.325000</td>\n",
       "      <td>927.913950</td>\n",
       "      <td>8602.985000</td>\n",
       "      <td>15845.600000</td>\n",
       "    </tr>\n",
       "    <tr>\n",
       "      <th>50%</th>\n",
       "      <td>618.311150</td>\n",
       "      <td>64.335000</td>\n",
       "      <td>0.110000</td>\n",
       "      <td>1606.755000</td>\n",
       "      <td>631.200000</td>\n",
       "      <td>1102.522500</td>\n",
       "      <td>11268.875000</td>\n",
       "      <td>19264.580000</td>\n",
       "    </tr>\n",
       "    <tr>\n",
       "      <th>75%</th>\n",
       "      <td>808.372975</td>\n",
       "      <td>81.587500</td>\n",
       "      <td>0.300000</td>\n",
       "      <td>3223.922500</td>\n",
       "      <td>3097.950000</td>\n",
       "      <td>1112.510400</td>\n",
       "      <td>11839.022500</td>\n",
       "      <td>19854.180000</td>\n",
       "    </tr>\n",
       "    <tr>\n",
       "      <th>max</th>\n",
       "      <td>1098.864900</td>\n",
       "      <td>97.840000</td>\n",
       "      <td>0.580000</td>\n",
       "      <td>6766.150000</td>\n",
       "      <td>11821.700000</td>\n",
       "      <td>1134.652600</td>\n",
       "      <td>12121.260000</td>\n",
       "      <td>20653.950000</td>\n",
       "    </tr>\n",
       "  </tbody>\n",
       "</table>\n",
       "</div>"
      ],
      "text/plain": [
       "       GasInStorageTWh  FullPercentage  TrendPercentage  InjectionGWhD  \\\n",
       "count      4210.000000     4210.000000      4210.000000    4210.000000   \n",
       "mean        629.234188       63.018881         0.000893    1914.484214   \n",
       "std         228.242201       20.722883         0.355025    1648.667052   \n",
       "min         193.839800       17.720000        -1.060000      18.170000   \n",
       "25%         442.756725       46.590000        -0.280000     330.252500   \n",
       "50%         618.311150       64.335000         0.110000    1606.755000   \n",
       "75%         808.372975       81.587500         0.300000    3223.922500   \n",
       "max        1098.864900       97.840000         0.580000    6766.150000   \n",
       "\n",
       "       WithdrawalGWhD  Working(Gas)VolumeTWh  InjectionCapacityGWhD  \\\n",
       "count     4210.000000            4210.000000            4210.000000   \n",
       "mean      1894.118694            1003.030956           10090.040128   \n",
       "std       2322.914171             152.960614            2073.388395   \n",
       "min          6.100000             617.509900            5392.470000   \n",
       "25%        216.325000             927.913950            8602.985000   \n",
       "50%        631.200000            1102.522500           11268.875000   \n",
       "75%       3097.950000            1112.510400           11839.022500   \n",
       "max      11821.700000            1134.652600           12121.260000   \n",
       "\n",
       "       WithdrawalCapacityGWhD  \n",
       "count             4210.000000  \n",
       "mean             17515.544363  \n",
       "std               3020.821327  \n",
       "min              10271.030000  \n",
       "25%              15845.600000  \n",
       "50%              19264.580000  \n",
       "75%              19854.180000  \n",
       "max              20653.950000  "
      ]
     },
     "execution_count": 93,
     "metadata": {},
     "output_type": "execute_result"
    }
   ],
   "source": [
    "df.describe()"
   ]
  },
  {
   "cell_type": "code",
   "execution_count": 4,
   "id": "bdbd7f17",
   "metadata": {},
   "outputs": [
    {
     "data": {
      "text/html": [
       "<div>\n",
       "<style scoped>\n",
       "    .dataframe tbody tr th:only-of-type {\n",
       "        vertical-align: middle;\n",
       "    }\n",
       "\n",
       "    .dataframe tbody tr th {\n",
       "        vertical-align: top;\n",
       "    }\n",
       "\n",
       "    .dataframe thead th {\n",
       "        text-align: right;\n",
       "    }\n",
       "</style>\n",
       "<table border=\"1\" class=\"dataframe\">\n",
       "  <thead>\n",
       "    <tr style=\"text-align: right;\">\n",
       "      <th></th>\n",
       "      <th>GasDayStart</th>\n",
       "      <th>GasInStorageTWh</th>\n",
       "      <th>InjectionGWhD</th>\n",
       "      <th>WithdrawalGWhD</th>\n",
       "    </tr>\n",
       "  </thead>\n",
       "  <tbody>\n",
       "    <tr>\n",
       "      <th>0</th>\n",
       "      <td>2022-07-11</td>\n",
       "      <td>692.5154</td>\n",
       "      <td>3603.45</td>\n",
       "      <td>787.1</td>\n",
       "    </tr>\n",
       "    <tr>\n",
       "      <th>1</th>\n",
       "      <td>2022-07-10</td>\n",
       "      <td>689.9400</td>\n",
       "      <td>5429.34</td>\n",
       "      <td>178.9</td>\n",
       "    </tr>\n",
       "    <tr>\n",
       "      <th>2</th>\n",
       "      <td>2022-07-09</td>\n",
       "      <td>684.7977</td>\n",
       "      <td>5473.00</td>\n",
       "      <td>173.9</td>\n",
       "    </tr>\n",
       "    <tr>\n",
       "      <th>3</th>\n",
       "      <td>2022-07-08</td>\n",
       "      <td>679.6126</td>\n",
       "      <td>4333.53</td>\n",
       "      <td>420.0</td>\n",
       "    </tr>\n",
       "    <tr>\n",
       "      <th>4</th>\n",
       "      <td>2022-07-07</td>\n",
       "      <td>675.8310</td>\n",
       "      <td>4411.06</td>\n",
       "      <td>516.7</td>\n",
       "    </tr>\n",
       "    <tr>\n",
       "      <th>5</th>\n",
       "      <td>2022-07-06</td>\n",
       "      <td>672.0230</td>\n",
       "      <td>4368.57</td>\n",
       "      <td>366.3</td>\n",
       "    </tr>\n",
       "    <tr>\n",
       "      <th>6</th>\n",
       "      <td>2022-07-05</td>\n",
       "      <td>668.1030</td>\n",
       "      <td>4252.63</td>\n",
       "      <td>272.6</td>\n",
       "    </tr>\n",
       "    <tr>\n",
       "      <th>7</th>\n",
       "      <td>2022-07-04</td>\n",
       "      <td>664.2840</td>\n",
       "      <td>4410.40</td>\n",
       "      <td>261.4</td>\n",
       "    </tr>\n",
       "    <tr>\n",
       "      <th>8</th>\n",
       "      <td>2022-07-03</td>\n",
       "      <td>660.2152</td>\n",
       "      <td>5289.58</td>\n",
       "      <td>230.9</td>\n",
       "    </tr>\n",
       "  </tbody>\n",
       "</table>\n",
       "</div>"
      ],
      "text/plain": [
       "  GasDayStart  GasInStorageTWh  InjectionGWhD  WithdrawalGWhD\n",
       "0  2022-07-11         692.5154        3603.45           787.1\n",
       "1  2022-07-10         689.9400        5429.34           178.9\n",
       "2  2022-07-09         684.7977        5473.00           173.9\n",
       "3  2022-07-08         679.6126        4333.53           420.0\n",
       "4  2022-07-07         675.8310        4411.06           516.7\n",
       "5  2022-07-06         672.0230        4368.57           366.3\n",
       "6  2022-07-05         668.1030        4252.63           272.6\n",
       "7  2022-07-04         664.2840        4410.40           261.4\n",
       "8  2022-07-03         660.2152        5289.58           230.9"
      ]
     },
     "execution_count": 4,
     "metadata": {},
     "output_type": "execute_result"
    }
   ],
   "source": [
    "cdf = df[['GasDayStart','GasInStorageTWh','InjectionGWhD','WithdrawalGWhD']]\n",
    "cdf.head(9)"
   ]
  },
  {
   "cell_type": "code",
   "execution_count": 5,
   "id": "331af62a",
   "metadata": {},
   "outputs": [
    {
     "name": "stderr",
     "output_type": "stream",
     "text": [
      "C:\\Users\\galen\\AppData\\Local\\Temp\\ipykernel_21076\\3792269071.py:2: SettingWithCopyWarning: \n",
      "A value is trying to be set on a copy of a slice from a DataFrame.\n",
      "Try using .loc[row_indexer,col_indexer] = value instead\n",
      "\n",
      "See the caveats in the documentation: https://pandas.pydata.org/pandas-docs/stable/user_guide/indexing.html#returning-a-view-versus-a-copy\n",
      "  cdf['GasDayStart'] = pd.to_datetime(cdf['GasDayStart'])\n"
     ]
    }
   ],
   "source": [
    "df['GasDayStart'] = pd.to_datetime(df['GasDayStart'])\n",
    "cdf['GasDayStart'] = pd.to_datetime(cdf['GasDayStart'])"
   ]
  },
  {
   "cell_type": "code",
   "execution_count": 6,
   "id": "fb0cef6f",
   "metadata": {},
   "outputs": [
    {
     "data": {
      "text/html": [
       "<div>\n",
       "<style scoped>\n",
       "    .dataframe tbody tr th:only-of-type {\n",
       "        vertical-align: middle;\n",
       "    }\n",
       "\n",
       "    .dataframe tbody tr th {\n",
       "        vertical-align: top;\n",
       "    }\n",
       "\n",
       "    .dataframe thead th {\n",
       "        text-align: right;\n",
       "    }\n",
       "</style>\n",
       "<table border=\"1\" class=\"dataframe\">\n",
       "  <thead>\n",
       "    <tr style=\"text-align: right;\">\n",
       "      <th></th>\n",
       "      <th>GasDayStart</th>\n",
       "      <th>GasInStorageTWh</th>\n",
       "      <th>InjectionGWhD</th>\n",
       "      <th>WithdrawalGWhD</th>\n",
       "    </tr>\n",
       "  </thead>\n",
       "  <tbody>\n",
       "    <tr>\n",
       "      <th>0</th>\n",
       "      <td>2022-07-11</td>\n",
       "      <td>692.5154</td>\n",
       "      <td>3603.45</td>\n",
       "      <td>787.1</td>\n",
       "    </tr>\n",
       "    <tr>\n",
       "      <th>1</th>\n",
       "      <td>2022-07-10</td>\n",
       "      <td>689.9400</td>\n",
       "      <td>5429.34</td>\n",
       "      <td>178.9</td>\n",
       "    </tr>\n",
       "    <tr>\n",
       "      <th>2</th>\n",
       "      <td>2022-07-09</td>\n",
       "      <td>684.7977</td>\n",
       "      <td>5473.00</td>\n",
       "      <td>173.9</td>\n",
       "    </tr>\n",
       "    <tr>\n",
       "      <th>3</th>\n",
       "      <td>2022-07-08</td>\n",
       "      <td>679.6126</td>\n",
       "      <td>4333.53</td>\n",
       "      <td>420.0</td>\n",
       "    </tr>\n",
       "    <tr>\n",
       "      <th>4</th>\n",
       "      <td>2022-07-07</td>\n",
       "      <td>675.8310</td>\n",
       "      <td>4411.06</td>\n",
       "      <td>516.7</td>\n",
       "    </tr>\n",
       "  </tbody>\n",
       "</table>\n",
       "</div>"
      ],
      "text/plain": [
       "  GasDayStart  GasInStorageTWh  InjectionGWhD  WithdrawalGWhD\n",
       "0  2022-07-11         692.5154        3603.45           787.1\n",
       "1  2022-07-10         689.9400        5429.34           178.9\n",
       "2  2022-07-09         684.7977        5473.00           173.9\n",
       "3  2022-07-08         679.6126        4333.53           420.0\n",
       "4  2022-07-07         675.8310        4411.06           516.7"
      ]
     },
     "execution_count": 6,
     "metadata": {},
     "output_type": "execute_result"
    }
   ],
   "source": [
    "cdf.head()"
   ]
  },
  {
   "cell_type": "code",
   "execution_count": 7,
   "id": "a6ed6051",
   "metadata": {
    "scrolled": true
   },
   "outputs": [
    {
     "name": "stderr",
     "output_type": "stream",
     "text": [
      "C:\\Users\\galen\\AppData\\Local\\Temp\\ipykernel_21076\\1512906971.py:2: SettingWithCopyWarning: \n",
      "A value is trying to be set on a copy of a slice from a DataFrame.\n",
      "Try using .loc[row_indexer,col_indexer] = value instead\n",
      "\n",
      "See the caveats in the documentation: https://pandas.pydata.org/pandas-docs/stable/user_guide/indexing.html#returning-a-view-versus-a-copy\n",
      "  cdf['Year'] = cdf['GasDayStart'].dt.year\n"
     ]
    }
   ],
   "source": [
    "df['Year'] = df['GasDayStart'].dt.year\n",
    "cdf['Year'] = cdf['GasDayStart'].dt.year"
   ]
  },
  {
   "cell_type": "code",
   "execution_count": 8,
   "id": "3a85f199",
   "metadata": {},
   "outputs": [
    {
     "data": {
      "text/plain": [
       "GasDayStart        datetime64[ns]\n",
       "GasInStorageTWh           float64\n",
       "InjectionGWhD             float64\n",
       "WithdrawalGWhD            float64\n",
       "Year                        int64\n",
       "dtype: object"
      ]
     },
     "execution_count": 8,
     "metadata": {},
     "output_type": "execute_result"
    }
   ],
   "source": [
    "cdf.dtypes"
   ]
  },
  {
   "cell_type": "code",
   "execution_count": 111,
   "id": "adef2c37",
   "metadata": {
    "scrolled": true
   },
   "outputs": [
    {
     "name": "stdout",
     "output_type": "stream",
     "text": [
      "      GasInStorageTWh  InjectionGWhD  WithdrawalGWhD\n",
      "Year                                                \n",
      "2011      172454.3526      400772.58        328661.6\n",
      "2012      200858.6879      486424.39        466522.2\n",
      "2013      183419.7110      608726.75        624654.6\n",
      "2014      250895.1946      575173.36        503694.0\n",
      "2015      219022.5732      704896.83        732753.0\n",
      "2016      257319.5374      740638.56        789397.0\n",
      "2017      227793.9917      849431.59        838997.2\n",
      "2018      221908.8613      908277.99        842838.7\n",
      "2019      291689.5784      848981.24        621088.2\n",
      "2020      323229.5927      684466.62        834063.5\n",
      "2021      216720.7899      728624.59        964236.4\n",
      "2022       83763.0627      523564.04        427333.3\n"
     ]
    }
   ],
   "source": [
    "# Use GroupBy() to compute the sum\n",
    "cdf2 = cdf.groupby('Year').sum()\n",
    "print(cdf2)"
   ]
  },
  {
   "cell_type": "code",
   "execution_count": 119,
   "id": "1a24363c",
   "metadata": {},
   "outputs": [
    {
     "name": "stdout",
     "output_type": "stream",
     "text": [
      "      GasInStorageTWh  InjectionGWhD  WithdrawalGWhD\n",
      "Year                                                \n",
      "2011     14371.196050   33397.715000    27388.466667\n",
      "2012     16738.223992   40535.365833    38876.850000\n",
      "2013     15284.975917   50727.229167    52054.550000\n",
      "2014     20907.932883   47931.113333    41974.500000\n",
      "2015     18251.881100   58741.402500    61062.750000\n",
      "2016     21443.294783   61719.880000    65783.083333\n",
      "2017     18982.832642   70785.965833    69916.433333\n",
      "2018     18492.405108   75689.832500    70236.558333\n",
      "2019     24307.464867   70748.436667    51757.350000\n",
      "2020     26935.799392   57038.885000    69505.291667\n",
      "2021     18060.065825   60718.715833    80353.033333\n",
      "2022      6980.255225   43630.336667    35611.108333\n"
     ]
    }
   ],
   "source": [
    "if (cdf['Year'] < 2022).bool:\n",
    "    cdf3 = cdf2 / 12\n",
    "else:\n",
    "    cdf3 = cdf2 / 7\n",
    "    \n",
    "print(cdf3)"
   ]
  },
  {
   "cell_type": "code",
   "execution_count": 120,
   "id": "bebddf83",
   "metadata": {},
   "outputs": [
    {
     "data": {
      "text/plain": [
       "[<matplotlib.lines.Line2D at 0x24ae7c073a0>,\n",
       " <matplotlib.lines.Line2D at 0x24ae7c073d0>,\n",
       " <matplotlib.lines.Line2D at 0x24ae7c074f0>]"
      ]
     },
     "execution_count": 120,
     "metadata": {},
     "output_type": "execute_result"
    },
    {
     "data": {
      "image/png": "[encoded data removed]",
      "text/plain": [
       "<Figure size 432x288 with 1 Axes>"
      ]
     },
     "metadata": {
      "needs_background": "light"
     },
     "output_type": "display_data"
    }
   ],
   "source": [
    "#cdf2.lineplot()\n",
    "plt.plot(cdf3)"
   ]
  },
  {
   "cell_type": "code",
   "execution_count": 110,
   "id": "60276e9b",
   "metadata": {},
   "outputs": [
    {
     "data": {
      "text/plain": [
       "[<matplotlib.lines.Line2D at 0x24ae7db00d0>]"
      ]
     },
     "execution_count": 110,
     "metadata": {},
     "output_type": "execute_result"
    },
    {
     "data": {
      "image/png": "[encoded data removed]",
      "text/plain": [
       "<Figure size 432x288 with 1 Axes>"
      ]
     },
     "metadata": {
      "needs_background": "light"
     },
     "output_type": "display_data"
    }
   ],
   "source": [
    "plt.plot(df.GasDayStart, df.GasInStorageTWh)"
   ]
  },
  {
   "cell_type": "code",
   "execution_count": 100,
   "id": "f1014bdf",
   "metadata": {},
   "outputs": [
    {
     "data": {
      "text/plain": [
       "GasInStorageTWh    float64\n",
       "InjectionGWhD      float64\n",
       "WithdrawalGWhD     float64\n",
       "dtype: object"
      ]
     },
     "execution_count": 100,
     "metadata": {},
     "output_type": "execute_result"
    }
   ],
   "source": [
    "cdf2.dtypes"
   ]
  },
  {
   "cell_type": "code",
   "execution_count": 106,
   "id": "4cce3c12",
   "metadata": {},
   "outputs": [
    {
     "data": {
      "image/png": "[encoded data removed]",
      "text/plain": [
       "<Figure size 432x288 with 1 Axes>"
      ]
     },
     "metadata": {
      "needs_background": "light"
     },
     "output_type": "display_data"
    }
   ],
   "source": [
    "plt.scatter(cdf.Year, cdf.GasInStorageTWh,  color='blue')\n",
    "plt.xlabel(\"Year\")\n",
    "plt.ylabel(\"GasInStorageTWh\")\n",
    "plt.show()"
   ]
  },
  {
   "cell_type": "code",
   "execution_count": 102,
   "id": "77f0ad27",
   "metadata": {},
   "outputs": [
    {
     "data": {
      "text/plain": [
       "<AxesSubplot:ylabel='Frequency'>"
      ]
     },
     "execution_count": 102,
     "metadata": {},
     "output_type": "execute_result"
    },
    {
     "data": {
      "image/png": "[encoded data removed]",
      "text/plain": [
       "<Figure size 432x288 with 1 Axes>"
      ]
     },
     "metadata": {
      "needs_background": "light"
     },
     "output_type": "display_data"
    }
   ],
   "source": [
    "cdf2['GasInStorageTWh'].plot(kind='hist')"
   ]
  },
  {
   "cell_type": "code",
   "execution_count": 103,
   "id": "70c6971f",
   "metadata": {},
   "outputs": [
    {
     "data": {
      "image/png": "[encoded data removed]",
      "text/plain": [
       "<Figure size 432x288 with 1 Axes>"
      ]
     },
     "metadata": {
      "needs_background": "light"
     },
     "output_type": "display_data"
    }
   ],
   "source": [
    "plt.scatter(df.GasInStorageTWh, df.FullPercentage,  color='blue')\n",
    "plt.xlabel(\"GasInStorageTWh\")\n",
    "plt.ylabel(\"FullPercentage\")\n",
    "plt.show()"
   ]
  },
  {
   "cell_type": "code",
   "execution_count": null,
   "id": "04717036",
   "metadata": {},
   "outputs": [],
   "source": [
    "df_gas['Year'] = df_gas['gasDayStart'].dt.year\n",
    "df_gas_filtered = df_gas[['Year','gasDayStart','gasInStorage','injection','withdrawal']]\n",
    "df_gas_filtered['gasInStorage'] = pd.to_numeric(df_gas_filtered['gasInStorage'],errors = 'coerce')\n",
    "df_gas_filtered['injection'] = pd.to_numeric(df_gas_filtered['injection'],errors = 'coerce')\n",
    "df_gas_filtered['withdrawal'] = pd.to_numeric(df_gas_filtered['withdrawal'],errors = 'coerce')\n",
    "df_gas_filtered['gasInStorage'] = df_gas_filtered['gasInStorage']*1000\n",
    "df_gas_grouped = df_gas_filtered.groupby('Year').mean()\n",
    "df_gas_grouped"
   ]
  },
  {
   "cell_type": "code",
   "execution_count": null,
   "id": "980da08d",
   "metadata": {},
   "outputs": [],
   "source": [
    "import seaborn as sns\n",
    "sns.lineplot(data = df_gas_grouped['gasInStorage'])"
   ]
  }
 ],
 "metadata": {
  "kernelspec": {
   "display_name": "Python 3 (ipykernel)",
   "language": "python",
   "name": "python3"
  },
  "language_info": {
   "codemirror_mode": {
    "name": "ipython",
    "version": 3
   },
   "file_extension": ".py",
   "mimetype": "text/x-python",
   "name": "python",
   "nbconvert_exporter": "python",
   "pygments_lexer": "ipython3",
   "version": "3.9.12"
  }
 },
 "nbformat": 4,
 "nbformat_minor": 5
}
